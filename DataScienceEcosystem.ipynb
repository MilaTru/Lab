{
 "cells": [
  {
   "cell_type": "markdown",
   "id": "12d2018b",
   "metadata": {},
   "source": [
    "# Data Science Tools and Ecosystem"
   ]
  },
  {
   "cell_type": "markdown",
   "id": "583a90f0",
   "metadata": {},
   "source": [
    "In this notebook, Data Science Tools and Ecosystem are summarized."
   ]
  },
  {
   "cell_type": "markdown",
   "id": "70bbcb78",
   "metadata": {},
   "source": [
    "list the objectives that this notebook covered (i.e. some of the key takeaways from the course). \n",
    "\n",
    "**Objectives:**\n",
    "* Popular Languages for DS (R, Python)\n",
    "* Different visualizations (pie chart, graph, comparison graphs)\n",
    "* Useful libraries for DS\n",
    "* Anaconda environment\n",
    "* Github as a tool for efficient project management"
   ]
  },
  {
   "cell_type": "markdown",
   "id": "57db2108",
   "metadata": {},
   "source": [
    "Some of the popular languages that Data Scientists use are:\n",
    "1. R\n",
    "1. Python\n",
    "1. Julia"
   ]
  },
  {
   "cell_type": "markdown",
   "id": "21f6e430",
   "metadata": {},
   "source": [
    "Some of the commonly used libraries used by Data Scientists include:\n",
    "1. ggplot\n",
    "1. pandas\n",
    "1. plotly"
   ]
  },
  {
   "cell_type": "markdown",
   "id": "b10f39ab",
   "metadata": {},
   "source": [
    "|Data Science Tools|\n",
    "-\n",
    "|Spark|\n",
    "|Apache|\n",
    "|Hadoop|"
   ]
  },
  {
   "cell_type": "markdown",
   "id": "695df735",
   "metadata": {},
   "source": [
    "### Below are a few examples of evaluating arithmetic expressions in Python"
   ]
  },
  {
   "cell_type": "code",
   "execution_count": 3,
   "id": "74f302b0",
   "metadata": {},
   "outputs": [
    {
     "data": {
      "text/plain": [
       "17"
      ]
     },
     "execution_count": 3,
     "metadata": {},
     "output_type": "execute_result"
    }
   ],
   "source": [
    "#This a simple arithmetic expression to mutiply then add integers\n",
    "(3*4)+5"
   ]
  },
  {
   "cell_type": "code",
   "execution_count": 6,
   "id": "da63a4f6",
   "metadata": {},
   "outputs": [
    {
     "name": "stdout",
     "output_type": "stream",
     "text": [
      "200 min = 3.3333333333333335 h\n"
     ]
    }
   ],
   "source": [
    "#this will convert 200 minutes to hours by diving by 60.\n",
    "print (200,\"min =\",200/60,\"h\")"
   ]
  },
  {
   "cell_type": "markdown",
   "id": "8396b25f",
   "metadata": {},
   "source": [
    "## Author\n",
    "Mila Trushchina"
   ]
  },
  {
   "cell_type": "code",
   "execution_count": null,
   "id": "ffcfbc44",
   "metadata": {},
   "outputs": [],
   "source": []
  }
 ],
 "metadata": {
  "kernelspec": {
   "display_name": "Python 3 (ipykernel)",
   "language": "python",
   "name": "python3"
  },
  "language_info": {
   "codemirror_mode": {
    "name": "ipython",
    "version": 3
   },
   "file_extension": ".py",
   "mimetype": "text/x-python",
   "name": "python",
   "nbconvert_exporter": "python",
   "pygments_lexer": "ipython3",
   "version": "3.9.13"
  }
 },
 "nbformat": 4,
 "nbformat_minor": 5
}
